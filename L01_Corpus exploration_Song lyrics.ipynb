{
 "cells": [
  {
   "cell_type": "markdown",
   "id": "e669a826",
   "metadata": {},
   "source": [
    "# L01: Corpus exploration: Song lyrics\n",
    "In this Lab, we're going to explore the song lyrics of our favorite artists 🥳\n",
    "\n",
    "Using **Levenshtein**, we first match the search for an artist name to those in the data.\n",
    "1. Given a search string, display the 5 most similar names.\n",
    "\n",
    "Using **TFIDF-Vectorization** of text and the **Cosine similarity**, we implement the following functionality:\n",
    "\n",
    "2. Given an artist, print out the 5 most similar artists based on their lyrics.\n",
    "3. Print the 10 most important words/phrases of an artist."
   ]
  },
  {
   "cell_type": "markdown",
   "id": "f7d9139a",
   "metadata": {},
   "source": [
    "## Data loading\n",
    "The data we're using consists of lyrics crawled from the website metrolyrics (seems to not exist anymore).\n",
    "\n",
    "The data is online here: https://github.com/hiteshyalamanchili/SongGenreClassification/raw/master/dataset/original_cleaned_lyrics.zip"
   ]
  },
  {
   "cell_type": "code",
   "id": "a19cc075",
   "metadata": {
    "ExecuteTime": {
     "end_time": "2024-04-16T13:42:36.945413Z",
     "start_time": "2024-04-16T13:42:36.942653Z"
    }
   },
   "source": [
    "import pandas as pd\n",
    "from zipfile import ZipFile"
   ],
   "outputs": [],
   "execution_count": 4
  },
  {
   "cell_type": "code",
   "id": "c89f2594",
   "metadata": {
    "ExecuteTime": {
     "end_time": "2024-04-16T13:56:40.442328Z",
     "start_time": "2024-04-16T13:56:37.984403Z"
    }
   },
   "source": [
    "zfile = ZipFile('L01_original_cleaned_lyrics.zip')\n",
    "df = pd.read_csv(zfile.open('original_cleaned_lyrics.csv'))\n",
    "df"
   ],
   "outputs": [
    {
     "data": {
      "text/plain": [
       "        Unnamed: 0   index                         song  year  \\\n",
       "0                0       0                    ego-remix  2009   \n",
       "1                1       1                 then-tell-me  2009   \n",
       "2                2       2                      honesty  2009   \n",
       "3                3       3              you-are-my-rock  2009   \n",
       "4                4       4                black-culture  2009   \n",
       "...            ...     ...                          ...   ...   \n",
       "227444      362232  362232    who-am-i-drinking-tonight  2012   \n",
       "227445      362233  362233                         liar  2012   \n",
       "227446      362234  362234                  last-supper  2012   \n",
       "227447      362235  362235  christ-alone-live-in-studio  2012   \n",
       "227448      362236  362236                         amen  2012   \n",
       "\n",
       "                 artist    genre  \\\n",
       "0       beyonce-knowles      Pop   \n",
       "1       beyonce-knowles      Pop   \n",
       "2       beyonce-knowles      Pop   \n",
       "3       beyonce-knowles      Pop   \n",
       "4       beyonce-knowles      Pop   \n",
       "...                 ...      ...   \n",
       "227444       edens-edge  Country   \n",
       "227445       edens-edge  Country   \n",
       "227446       edens-edge  Country   \n",
       "227447       edens-edge  Country   \n",
       "227448       edens-edge  Country   \n",
       "\n",
       "                                                   lyrics  \n",
       "0       Oh baby how you doing You know I'm gonna cut r...  \n",
       "1       playin everything so easy it's like you seem s...  \n",
       "2       If you search For tenderness It isn't hard to ...  \n",
       "3       Oh oh oh I oh oh oh I If I wrote a book about ...  \n",
       "4       Party the people the people the party it's pop...  \n",
       "...                                                   ...  \n",
       "227444  I gotta say Boy after only just a couple of da...  \n",
       "227445  I helped you find her diamond ring You made me...  \n",
       "227446  Look at the couple in the corner booth Looks a...  \n",
       "227447  When I fly off this mortal earth And I'm measu...  \n",
       "227448  I heard from a friend of a friend of a friend ...  \n",
       "\n",
       "[227449 rows x 7 columns]"
      ],
      "text/html": [
       "<div>\n",
       "<style scoped>\n",
       "    .dataframe tbody tr th:only-of-type {\n",
       "        vertical-align: middle;\n",
       "    }\n",
       "\n",
       "    .dataframe tbody tr th {\n",
       "        vertical-align: top;\n",
       "    }\n",
       "\n",
       "    .dataframe thead th {\n",
       "        text-align: right;\n",
       "    }\n",
       "</style>\n",
       "<table border=\"1\" class=\"dataframe\">\n",
       "  <thead>\n",
       "    <tr style=\"text-align: right;\">\n",
       "      <th></th>\n",
       "      <th>Unnamed: 0</th>\n",
       "      <th>index</th>\n",
       "      <th>song</th>\n",
       "      <th>year</th>\n",
       "      <th>artist</th>\n",
       "      <th>genre</th>\n",
       "      <th>lyrics</th>\n",
       "    </tr>\n",
       "  </thead>\n",
       "  <tbody>\n",
       "    <tr>\n",
       "      <th>0</th>\n",
       "      <td>0</td>\n",
       "      <td>0</td>\n",
       "      <td>ego-remix</td>\n",
       "      <td>2009</td>\n",
       "      <td>beyonce-knowles</td>\n",
       "      <td>Pop</td>\n",
       "      <td>Oh baby how you doing You know I'm gonna cut r...</td>\n",
       "    </tr>\n",
       "    <tr>\n",
       "      <th>1</th>\n",
       "      <td>1</td>\n",
       "      <td>1</td>\n",
       "      <td>then-tell-me</td>\n",
       "      <td>2009</td>\n",
       "      <td>beyonce-knowles</td>\n",
       "      <td>Pop</td>\n",
       "      <td>playin everything so easy it's like you seem s...</td>\n",
       "    </tr>\n",
       "    <tr>\n",
       "      <th>2</th>\n",
       "      <td>2</td>\n",
       "      <td>2</td>\n",
       "      <td>honesty</td>\n",
       "      <td>2009</td>\n",
       "      <td>beyonce-knowles</td>\n",
       "      <td>Pop</td>\n",
       "      <td>If you search For tenderness It isn't hard to ...</td>\n",
       "    </tr>\n",
       "    <tr>\n",
       "      <th>3</th>\n",
       "      <td>3</td>\n",
       "      <td>3</td>\n",
       "      <td>you-are-my-rock</td>\n",
       "      <td>2009</td>\n",
       "      <td>beyonce-knowles</td>\n",
       "      <td>Pop</td>\n",
       "      <td>Oh oh oh I oh oh oh I If I wrote a book about ...</td>\n",
       "    </tr>\n",
       "    <tr>\n",
       "      <th>4</th>\n",
       "      <td>4</td>\n",
       "      <td>4</td>\n",
       "      <td>black-culture</td>\n",
       "      <td>2009</td>\n",
       "      <td>beyonce-knowles</td>\n",
       "      <td>Pop</td>\n",
       "      <td>Party the people the people the party it's pop...</td>\n",
       "    </tr>\n",
       "    <tr>\n",
       "      <th>...</th>\n",
       "      <td>...</td>\n",
       "      <td>...</td>\n",
       "      <td>...</td>\n",
       "      <td>...</td>\n",
       "      <td>...</td>\n",
       "      <td>...</td>\n",
       "      <td>...</td>\n",
       "    </tr>\n",
       "    <tr>\n",
       "      <th>227444</th>\n",
       "      <td>362232</td>\n",
       "      <td>362232</td>\n",
       "      <td>who-am-i-drinking-tonight</td>\n",
       "      <td>2012</td>\n",
       "      <td>edens-edge</td>\n",
       "      <td>Country</td>\n",
       "      <td>I gotta say Boy after only just a couple of da...</td>\n",
       "    </tr>\n",
       "    <tr>\n",
       "      <th>227445</th>\n",
       "      <td>362233</td>\n",
       "      <td>362233</td>\n",
       "      <td>liar</td>\n",
       "      <td>2012</td>\n",
       "      <td>edens-edge</td>\n",
       "      <td>Country</td>\n",
       "      <td>I helped you find her diamond ring You made me...</td>\n",
       "    </tr>\n",
       "    <tr>\n",
       "      <th>227446</th>\n",
       "      <td>362234</td>\n",
       "      <td>362234</td>\n",
       "      <td>last-supper</td>\n",
       "      <td>2012</td>\n",
       "      <td>edens-edge</td>\n",
       "      <td>Country</td>\n",
       "      <td>Look at the couple in the corner booth Looks a...</td>\n",
       "    </tr>\n",
       "    <tr>\n",
       "      <th>227447</th>\n",
       "      <td>362235</td>\n",
       "      <td>362235</td>\n",
       "      <td>christ-alone-live-in-studio</td>\n",
       "      <td>2012</td>\n",
       "      <td>edens-edge</td>\n",
       "      <td>Country</td>\n",
       "      <td>When I fly off this mortal earth And I'm measu...</td>\n",
       "    </tr>\n",
       "    <tr>\n",
       "      <th>227448</th>\n",
       "      <td>362236</td>\n",
       "      <td>362236</td>\n",
       "      <td>amen</td>\n",
       "      <td>2012</td>\n",
       "      <td>edens-edge</td>\n",
       "      <td>Country</td>\n",
       "      <td>I heard from a friend of a friend of a friend ...</td>\n",
       "    </tr>\n",
       "  </tbody>\n",
       "</table>\n",
       "<p>227449 rows × 7 columns</p>\n",
       "</div>"
      ]
     },
     "execution_count": 19,
     "metadata": {},
     "output_type": "execute_result"
    }
   ],
   "execution_count": 19
  },
  {
   "cell_type": "code",
   "id": "4e6607e6",
   "metadata": {
    "ExecuteTime": {
     "end_time": "2024-04-16T13:59:18.208637Z",
     "start_time": "2024-04-16T13:59:18.191553Z"
    }
   },
   "source": [
    "# TODO\n",
    "# Create the variable artists_set which contains a set of all the artists in the data\n",
    "artists_set = set(df['artist'])\n",
    "print(len(artists_set))\n",
    "sorted_artists = sorted(artists_set)\n",
    "\n",
    "# Print the first 10 artists from the sorted list\n",
    "print(sorted_artists[:10])"
   ],
   "outputs": [
    {
     "name": "stdout",
     "output_type": "stream",
     "text": [
      "11117\n",
      "['009-sound-system', '047', '1-800-zombie', '10-cc', '10-years', '100-demons', '100-monkeys', '10000-maniacs', '1000mods', '104']\n"
     ]
    }
   ],
   "execution_count": 22
  },
  {
   "cell_type": "markdown",
   "id": "348f90d8",
   "metadata": {},
   "source": [
    "Let's look at the genre distribution"
   ]
  },
  {
   "cell_type": "code",
   "id": "100f1b28",
   "metadata": {
    "ExecuteTime": {
     "end_time": "2024-04-16T14:06:15.033949Z",
     "start_time": "2024-04-16T14:06:15.001798Z"
    }
   },
   "source": [
    "from collections import Counter\n",
    "# TODO \n",
    "# use the Counter class to count and print the number of songs per genre in descending number of counts\n",
    "# Hint: check the most_common() function of the Counter class\n",
    "counter = Counter(df['genre'])\n",
    "print(counter.most_common())"
   ],
   "outputs": [
    {
     "name": "stdout",
     "output_type": "stream",
     "text": [
      "[('Rock', 104137), ('Pop', 36439), ('Hip-Hop', 23215), ('Metal', 22420), ('Country', 14182), ('Jazz', 7520), ('Electronic', 7231), ('Other', 3989), ('R&B', 3354), ('Indie', 2970), ('Folk', 1992)]\n"
     ]
    }
   ],
   "execution_count": 24
  },
  {
   "cell_type": "markdown",
   "id": "be893729",
   "metadata": {},
   "source": [
    "Which 50 artists have the most song lyrics in the data?"
   ]
  },
  {
   "cell_type": "code",
   "id": "39903df5",
   "metadata": {
    "ExecuteTime": {
     "end_time": "2024-04-16T14:07:06.240725Z",
     "start_time": "2024-04-16T14:07:06.207128Z"
    }
   },
   "source": [
    "# TODO\n",
    "# use a Counter to count how many songs each artist has and print the 50 artists with the most songs.\n",
    "counter = Counter(df['artist'])\n",
    "print(counter.most_common(50))"
   ],
   "outputs": [
    {
     "name": "stdout",
     "output_type": "stream",
     "text": [
      "[('dolly-parton', 742), ('elton-john', 666), ('chris-brown', 617), ('barbra-streisand', 598), ('bee-gees', 590), ('eddy-arnold', 585), ('bob-dylan', 584), ('eminem', 569), ('american-idol', 568), ('ella-fitzgerald', 566), ('dean-martin', 552), ('david-bowie', 546), ('b-b-king', 541), ('elvis-costello', 516), ('bruce-springsteen', 508), ('beach-boys', 477), ('bill-anderson', 460), ('eric-clapton', 454), ('frank-zappa', 431), ('chumbawamba', 422), ('frank-sinatra', 412), ('celine-dion', 410), ('britney-spears', 402), ('chicago', 398), ('beatles', 396), ('chamillionaire', 396), ('diana-ross', 396), ('50-cent', 392), ('emmylou-harris', 384), ('bon-jovi', 373), ('barry-manilow', 368), ('babyface', 367), ('fall', 366), ('2pac', 361), ('elvis-presley', 359), ('drake', 359), ('conway-twitty', 355), ('game', 326), ('electric-light-orchestra', 326), ('buck-owens', 321), ('alice-cooper', 319), ('fleetwood-mac', 316), ('billie-holiday', 315), ('beck', 312), ('ferlin-husky', 303), ('cliff-richard', 299), ('ernest-tubb', 297), ('bad-religion', 296), ('bobby-bare', 294), ('cher', 291)]\n"
     ]
    }
   ],
   "execution_count": 26
  },
  {
   "cell_type": "markdown",
   "id": "b222d3bc",
   "metadata": {},
   "source": [
    "## 1. Search function for artist names\n",
    "We use the Levenshtein distance to compare a search string to our artist names in the data"
   ]
  },
  {
   "cell_type": "code",
   "id": "5accc676",
   "metadata": {
    "ExecuteTime": {
     "end_time": "2024-04-16T14:18:33.074097Z",
     "start_time": "2024-04-16T14:18:33.069605Z"
    }
   },
   "source": [
    "from Levenshtein import distance\n",
    "\n",
    "def search_artist(artist_name: str, num_print: int = 5):\n",
    "    artist_name = artist_name.replace(' ', '-')  # artist names don't have whitespaces in the data\n",
    "    \n",
    "    # TODO\n",
    "    # If artist_name is in the set of artists, don't perform the Levenshtein comparison (saves compute!)\n",
    "    if artist_name in artists_set:\n",
    "        print('Artist ' + artist_name + ' found in set.')\n",
    "    else:\n",
    "        string_similarities = []\n",
    "        # TODO \n",
    "        # iterate the artists_set and compare the search string artist_name to each entry\n",
    "        # store the result of each comparison as a tuple (Levenshtein distance value, artist) \n",
    "        # in the list string_similarities\n",
    "        for artist in artists_set:\n",
    "            string_similarities.append((distance(artist, artist_name),artist))\n",
    "        \n",
    "        # TODO\n",
    "        # print the num_print most similar names to the searched artist_name with a \"Did you mean:\" prefix\n",
    "        string_similarities.sort()\n",
    "        print(\"Did you mean:\")\n",
    "        for similarity in string_similarities[:num_print]:\n",
    "            print(f\"{similarity[1]}? (Distance: {similarity[0]})\")"
   ],
   "outputs": [],
   "execution_count": 33
  },
  {
   "cell_type": "code",
   "id": "1bc57500",
   "metadata": {
    "ExecuteTime": {
     "end_time": "2024-04-16T14:18:33.782028Z",
     "start_time": "2024-04-16T14:18:33.703469Z"
    }
   },
   "source": [
    "search_artist('dolly parton')\n",
    "search_artist('billy hollidays')"
   ],
   "outputs": [
    {
     "name": "stdout",
     "output_type": "stream",
     "text": [
      "Artist dolly-parton found in set.\n",
      "Did you mean:\n",
      "billie-holiday? (Distance: 4)\n",
      "billy-childs? (Distance: 6)\n",
      "billy-jo-spears? (Distance: 6)\n",
      "billy-jonas? (Distance: 6)\n",
      "ally-hills? (Distance: 7)\n"
     ]
    }
   ],
   "execution_count": 34
  },
  {
   "cell_type": "markdown",
   "id": "75932e4e",
   "metadata": {},
   "source": [
    "## 2. Search function to find similar artists based on lyrics\n",
    "First, concatenate the lyrics per artist"
   ]
  },
  {
   "cell_type": "code",
   "id": "c4d6d612",
   "metadata": {
    "ExecuteTime": {
     "end_time": "2024-04-16T14:19:17.363236Z",
     "start_time": "2024-04-16T14:19:16.692082Z"
    }
   },
   "source": [
    "from collections import defaultdict\n",
    "artist_lyrics = defaultdict(str)\n",
    "for artist, track in zip(df['artist'], df['lyrics']):\n",
    "    artist_lyrics[artist] += ' ' + track  #  here's a good place to do preprocessing as you touch each lyrics string\n",
    "len(artist_lyrics)"
   ],
   "outputs": [
    {
     "data": {
      "text/plain": [
       "11117"
      ]
     },
     "execution_count": 35,
     "metadata": {},
     "output_type": "execute_result"
    }
   ],
   "execution_count": 35
  },
  {
   "cell_type": "markdown",
   "id": "abfd9af0",
   "metadata": {},
   "source": [
    "### Text vectorization\n",
    "Now vectorize the lyrics using TFIDF from sklearn: https://scikit-learn.org/stable/modules/generated/sklearn.feature_extraction.text.TfidfVectorizer.html\n",
    "\n",
    "Study the parameters carefully to improve your outputs!\n",
    "\n",
    "Note that the TfidfVectorizer accepts list of strings as input, so we need to get them from the artist_lyrics dict. The values() function below creates an iterable that keeps the sequence of the dict, so we don't lose the link to the artists the lyrics belong to."
   ]
  },
  {
   "cell_type": "code",
   "id": "393d4813",
   "metadata": {
    "ExecuteTime": {
     "end_time": "2024-04-16T14:44:26.598423Z",
     "start_time": "2024-04-16T14:44:14.078497Z"
    }
   },
   "source": [
    "from sklearn.feature_extraction.text import TfidfVectorizer\n",
    "# TODO\n",
    "# instantiate the TfidfVectorizer with the desired parameters from the documentation\n",
    "tfidf = TfidfVectorizer(stop_words='english')\n",
    "tfidf_vecs = tfidf.fit_transform(artist_lyrics.values())\n",
    "tfidf_vecs.shape"
   ],
   "outputs": [
    {
     "data": {
      "text/plain": [
       "(11117, 313178)"
      ]
     },
     "execution_count": 58,
     "metadata": {},
     "output_type": "execute_result"
    }
   ],
   "execution_count": 58
  },
  {
   "cell_type": "markdown",
   "id": "0e1b5b87",
   "metadata": {},
   "source": [
    "### Similarity calculation\n",
    "Now calculate the cosine distance of the TFIDF vector of a given artist to all other artists.\n",
    "Use https://scikit-learn.org/stable/modules/generated/sklearn.metrics.pairwise.cosine_similarity.html"
   ]
  },
  {
   "cell_type": "code",
   "id": "076e5d04",
   "metadata": {
    "ExecuteTime": {
     "end_time": "2024-04-16T14:44:48.678987Z",
     "start_time": "2024-04-16T14:44:48.673914Z"
    }
   },
   "source": [
    "from sklearn.metrics.pairwise import cosine_distances\n",
    "import numpy as np\n",
    "\n",
    "artist_list = list(artist_lyrics.keys())  # we cannot use the set artists_set here as we need to keep the artist names and their lyrics aligned!\n",
    "\n",
    "def find_similar_artists(artist_name: str, num_print: int = 10):\n",
    "    \n",
    "    # TODO\n",
    "    # Make sure we have artist_name in our data!\n",
    "    # If not, call your function search_artist() to suggest similar artist names\n",
    "    if not artist_name in artist_list:\n",
    "        search_artist(artist_name)\n",
    "    else:\n",
    "        # We first need to get the correct vector using the list index of artist_name in artist_list\n",
    "        artist_tfidf_vec = tfidf_vecs[artist_list.index(artist_name)]\n",
    "        # TODO\n",
    "        # apply cosine_distances() between the tfidf vector of the artist and those of the other artists\n",
    "        distances = cosine_distances(artist_tfidf_vec, tfidf_vecs)\n",
    "    \n",
    "        sorted_indices = np.argsort(distances)[0]  # we sort the indices of the vectors to map them to the artist_list\n",
    "        for i in sorted_indices[1: num_print + 1]:  # skip the closest artist, as it is itself!\n",
    "            print(artist_list[i], distances[0][i])"
   ],
   "outputs": [],
   "execution_count": 59
  },
  {
   "cell_type": "code",
   "id": "66ebb87f",
   "metadata": {
    "ExecuteTime": {
     "end_time": "2024-04-16T14:44:51.065836Z",
     "start_time": "2024-04-16T14:44:50.911560Z"
    }
   },
   "source": [
    "find_similar_artists('anthraxxxx')\n",
    "print(\"====================\")\n",
    "find_similar_artists('anthrax')"
   ],
   "outputs": [
    {
     "name": "stdout",
     "output_type": "stream",
     "text": [
      "Did you mean:\n",
      "anthrax? (Distance: 3)\n",
      "ataraxia? (Distance: 5)\n",
      "ataraxie? (Distance: 5)\n",
      "a-trak? (Distance: 6)\n",
      "abraxas? (Distance: 6)\n",
      "====================\n",
      "avenged-sevenfold 0.3635765521870937\n",
      "black-sabbath 0.366487267098607\n",
      "ani-difranco 0.3831536538537017\n",
      "atmosphere 0.3853595791430938\n",
      "bon-jovi 0.3861465679145868\n",
      "blues-traveler 0.3927929390116326\n",
      "elvis-costello 0.3967996499913934\n",
      "311 0.3986935511449764\n",
      "genesis 0.3991778397447068\n",
      "alice-cooper 0.3998815037834318\n"
     ]
    }
   ],
   "execution_count": 60
  },
  {
   "cell_type": "markdown",
   "id": "012f8ecd",
   "metadata": {},
   "source": [
    "## 3. Most important words for an artist\n",
    "Now, let's find the most distinct words that an artist uses based on the TFIDF values. To map the TFIDF values to the words, we first need to extract the vocabulary of the TFIDF vectorizer. \n",
    "\n",
    "Note that TfidfVectorizer returns sparse arrays (this makes sense, most values in the vectors are zeros, so a sparse representation is more efficient) which are not suited for common indexing. We thus have to use toarray() to change the vectors into dense (i.e. \"normal\") vectors."
   ]
  },
  {
   "cell_type": "code",
   "id": "9630d559",
   "metadata": {
    "ExecuteTime": {
     "end_time": "2024-04-16T14:44:59.251602Z",
     "start_time": "2024-04-16T14:44:59.098152Z"
    }
   },
   "source": [
    "tfidf_vocab_list = tfidf.get_feature_names_out()\n",
    "\n",
    "def find_important_words(artist_name: str, num_print: int = 20):\n",
    "    # TODO\n",
    "    # Make sure we have artist_name in our data!\n",
    "    # If not, call your function search_artist() to suggest similar artist names\n",
    "    if not artist_name in artist_list:\n",
    "        search_artist(artist_name)\n",
    "    else:\n",
    "        artist_tfidf_vec = tfidf_vecs[artist_list.index(artist_name)].toarray()[0]  # as the array is two dimensional, we have to access the 1st dimension which contains the actual vectors\n",
    "        # TODO \n",
    "        # Sorting the indices of the words by their TF-IDF values in ascending order\n",
    "        sorted_word_indices = np.argsort(artist_tfidf_vec)\n",
    "\n",
    "        # TODO\n",
    "        # use np.flip() to reverse sorted_word_indices, so we have the words with the highest weigths at the beginning of the array\n",
    "        # Reverse the array to get the highest values first\n",
    "        sorted_word_indices = np.flip(sorted_word_indices)\n",
    "        for index in sorted_word_indices[:num_print]:\n",
    "            print(tfidf_vocab_list[index], artist_tfidf_vec[index])        "
   ],
   "outputs": [],
   "execution_count": 61
  },
  {
   "cell_type": "code",
   "id": "80c3dd63",
   "metadata": {
    "ExecuteTime": {
     "end_time": "2024-04-16T14:45:02.807671Z",
     "start_time": "2024-04-16T14:45:02.781392Z"
    }
   },
   "source": "find_important_words('eminem')",
   "outputs": [
    {
     "name": "stdout",
     "output_type": "stream",
     "text": [
      "shit 0.268050720546989\n",
      "like 0.25187611021022027\n",
      "fuck 0.2363867206629078\n",
      "just 0.21709599921613354\n",
      "don 0.19643115885087775\n",
      "shady 0.18121457402527022\n",
      "bitch 0.175857471709649\n",
      "ain 0.164104307211459\n",
      "cause 0.15772494551348668\n",
      "got 0.14618851659084042\n",
      "ass 0.13918616244872614\n",
      "em 0.13810585508888273\n",
      "fuckin 0.12840186761574435\n",
      "know 0.1281132653877803\n",
      "slim 0.11723684951392975\n",
      "ll 0.11066274841617774\n",
      "eminem 0.09995538485961142\n",
      "dre 0.09919221526998229\n",
      "man 0.09533451935249489\n",
      "say 0.09030341835623744\n"
     ]
    }
   ],
   "execution_count": 62
  },
  {
   "metadata": {},
   "cell_type": "code",
   "outputs": [],
   "execution_count": null,
   "source": "",
   "id": "2d834cc415055939"
  }
 ],
 "metadata": {
  "kernelspec": {
   "display_name": "Python 3 (ipykernel)",
   "language": "python",
   "name": "python3"
  },
  "language_info": {
   "codemirror_mode": {
    "name": "ipython",
    "version": 3
   },
   "file_extension": ".py",
   "mimetype": "text/x-python",
   "name": "python",
   "nbconvert_exporter": "python",
   "pygments_lexer": "ipython3",
   "version": "3.10.12"
  }
 },
 "nbformat": 4,
 "nbformat_minor": 5
}
